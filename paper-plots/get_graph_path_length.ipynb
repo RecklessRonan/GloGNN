{
 "cells": [
  {
   "cell_type": "code",
   "execution_count": 1,
   "metadata": {},
   "outputs": [],
   "source": [
    "import torch\n",
    "import numpy as np\n",
    "import networkx as nx\n",
    "import pickle\n",
    "import os"
   ]
  },
  {
   "cell_type": "code",
   "execution_count": 2,
   "metadata": {},
   "outputs": [],
   "source": [
    "datasets = ['texas', 'wisconsin', 'cornell', 'film', 'squirrel', 'chameleon', 'cora', 'citeseer', 'pubmed']"
   ]
  },
  {
   "cell_type": "code",
   "execution_count": 3,
   "metadata": {},
   "outputs": [],
   "source": [
    "node_nums ={\n",
    "    'texas': 183,\n",
    "    'wisconsin': 251,\n",
    "    'cornell': 183,\n",
    "    'film': 7600,\n",
    "    'squirrel': 5201,\n",
    "    'chameleon': 2277,\n",
    "    'cora': 2708,\n",
    "    'citeseer': 3327,\n",
    "    'pubmed': 19717\n",
    "}"
   ]
  },
  {
   "cell_type": "code",
   "execution_count": 4,
   "metadata": {},
   "outputs": [],
   "source": [
    "def get_path_length(dataset, G):\n",
    "    path_dir = dataset + '_path.pkl'\n",
    "\n",
    "    if os.path.exists(path_dir):\n",
    "        with open(path_dir, 'rb') as f:\n",
    "            path = pickle.load(f)\n",
    "    else:\n",
    "        path = dict(nx.all_pairs_shortest_path(G))\n",
    "        with open(path_dir, 'wb') as f:\n",
    "            pickle.dump(path, f)\n",
    "    \n",
    "    path_length_dir = dataset + '_path_length.pkl'\n",
    "\n",
    "    if os.path.exists(path_length_dir):\n",
    "        with open(path_length_dir, 'rb') as f:\n",
    "            path_length = pickle.load(f)\n",
    "    else:\n",
    "        path_length = dict(nx.all_pairs_shortest_path_length(G))\n",
    "        with open(path_length_dir, 'wb') as f:\n",
    "            pickle.dump(path_length, f)"
   ]
  },
  {
   "cell_type": "code",
   "execution_count": 5,
   "metadata": {},
   "outputs": [],
   "source": [
    "def get_nx_graph(dataset):\n",
    "    if dataset in ['texas', 'wisconsin', 'cornell', 'film', 'squirrel', 'chameleon']:\n",
    "        node_num = node_nums[dataset]\n",
    "        adj = np.zeros((node_num, node_num))\n",
    "        graph_edges = '../pygcn/new_data/' + dataset + '/out1_graph_edges.txt'\n",
    "\n",
    "        with open(graph_edges, 'r') as f:\n",
    "            lines = f.readlines()\n",
    "\n",
    "        for i in range(1, len(lines)):\n",
    "            line = lines[i]\n",
    "            line = line.rstrip().split('\\t')\n",
    "            adj[int(line[0]), int(line[1])] = 1\n",
    "            adj[int(line[1]), int(line[0])] = 1\n",
    "        G = nx.from_numpy_matrix(adj)\n",
    "    else:\n",
    "        graph = '../pygcn/data/ind.' + dataset + '.graph'\n",
    "        with open(graph, 'rb') as f:\n",
    "            graph = pickle.load(f, encoding='latin1')\n",
    "        G = nx.from_dict_of_lists(graph)\n",
    "    return G       "
   ]
  },
  {
   "cell_type": "code",
   "execution_count": 6,
   "metadata": {},
   "outputs": [
    {
     "name": "stdout",
     "output_type": "stream",
     "text": [
      "texas  finished\n",
      "wisconsin  finished\n",
      "cornell  finished\n",
      "film  finished\n",
      "squirrel  finished\n",
      "chameleon  finished\n",
      "cora  finished\n",
      "citeseer  finished\n",
      "pubmed  finished\n"
     ]
    }
   ],
   "source": [
    "for dataset in datasets:  \n",
    "    G = get_nx_graph(dataset)\n",
    "    get_path_length(dataset, G)\n",
    "    print(dataset, ' finished')\n",
    "    "
   ]
  },
  {
   "cell_type": "code",
   "execution_count": null,
   "metadata": {},
   "outputs": [],
   "source": []
  }
 ],
 "metadata": {
  "interpreter": {
   "hash": "31f2aee4e71d21fbe5cf8b01ff0e069b9275f58929596ceb00d14d90e3e16cd6"
  },
  "kernelspec": {
   "display_name": "Python 3.6.9 64-bit",
   "language": "python",
   "name": "python3"
  },
  "language_info": {
   "codemirror_mode": {
    "name": "ipython",
    "version": 3
   },
   "file_extension": ".py",
   "mimetype": "text/x-python",
   "name": "python",
   "nbconvert_exporter": "python",
   "pygments_lexer": "ipython3",
   "version": "3.6.9"
  },
  "orig_nbformat": 4
 },
 "nbformat": 4,
 "nbformat_minor": 2
}
