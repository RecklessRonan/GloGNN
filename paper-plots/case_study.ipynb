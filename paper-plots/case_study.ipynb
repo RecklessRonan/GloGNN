{
 "cells": [
  {
   "cell_type": "code",
   "execution_count": 27,
   "metadata": {},
   "outputs": [],
   "source": [
    "import torch\n",
    "import numpy as np\n",
    "import networkx as nx\n",
    "import pickle\n",
    "import os\n",
    "import matplotlib.pyplot as plt\n",
    "import matplotlib\n",
    "from matplotlib.pyplot import MultipleLocator"
   ]
  },
  {
   "cell_type": "code",
   "execution_count": 2,
   "metadata": {},
   "outputs": [],
   "source": [
    "dataset= 'squirrel'"
   ]
  },
  {
   "cell_type": "code",
   "execution_count": 3,
   "metadata": {},
   "outputs": [],
   "source": [
    "z_dir = '../pygcn/z_vis/' + dataset + '/0/'"
   ]
  },
  {
   "cell_type": "code",
   "execution_count": 4,
   "metadata": {},
   "outputs": [],
   "source": [
    "graph_edges = '../pygcn/new_data/' + dataset + '/out1_graph_edges.txt'\n",
    "with open(graph_edges, 'r') as f:\n",
    "    lines = f.readlines()"
   ]
  },
  {
   "cell_type": "code",
   "execution_count": 5,
   "metadata": {},
   "outputs": [],
   "source": [
    "node_nums ={\n",
    "    'texas': 183,\n",
    "    'wisconsin': 251,\n",
    "    'cornell': 183,\n",
    "    'film': 7600,\n",
    "    'squirrel': 5201,\n",
    "    'chameleon': 2277,\n",
    "    'cora': 2708,\n",
    "    'citeseer': 3327,\n",
    "    'pubmed': 19717\n",
    "}\n",
    "\n",
    "node_num = node_nums[dataset]\n",
    "adj = np.zeros((node_num, node_num))\n",
    "\n",
    "for i in range(1, len(lines)):\n",
    "    line = lines[i]\n",
    "    line = line.rstrip().split('\\t')\n",
    "    adj[int(line[0]), int(line[1])] = 1\n",
    "    adj[int(line[1]), int(line[0])] = 1\n"
   ]
  },
  {
   "cell_type": "code",
   "execution_count": 6,
   "metadata": {},
   "outputs": [
    {
     "data": {
      "text/plain": [
       "array([[0., 0., 0., ..., 0., 0., 0.],\n",
       "       [0., 0., 0., ..., 0., 0., 0.],\n",
       "       [0., 0., 0., ..., 0., 0., 0.],\n",
       "       ...,\n",
       "       [0., 0., 0., ..., 0., 0., 0.],\n",
       "       [0., 0., 0., ..., 0., 0., 0.],\n",
       "       [0., 0., 0., ..., 0., 0., 0.]])"
      ]
     },
     "execution_count": 6,
     "metadata": {},
     "output_type": "execute_result"
    }
   ],
   "source": [
    "adj"
   ]
  },
  {
   "cell_type": "code",
   "execution_count": 7,
   "metadata": {},
   "outputs": [],
   "source": [
    "G = nx.from_numpy_matrix(adj)"
   ]
  },
  {
   "cell_type": "code",
   "execution_count": 8,
   "metadata": {},
   "outputs": [],
   "source": [
    "# path_dir = 'hop_pkls/' + dataset + '_path.pkl'\n",
    "\n",
    "# if os.path.exists(path_dir):\n",
    "#     with open(path_dir, 'rb') as f:\n",
    "#         path = pickle.load(f)\n",
    "# else:\n",
    "#     path = dict(nx.all_pairs_shortest_path(G))\n",
    "#     with open(path_dir, 'wb') as f:\n",
    "#         pickle.dump(path, f)"
   ]
  },
  {
   "cell_type": "code",
   "execution_count": 9,
   "metadata": {},
   "outputs": [],
   "source": [
    "path_length_dir = 'hop_pkls/' + dataset + '_path_length.pkl'\n",
    "\n",
    "if os.path.exists(path_length_dir):\n",
    "    with open(path_length_dir, 'rb') as f:\n",
    "        path_length = pickle.load(f)\n",
    "else:\n",
    "    path_length = dict(nx.all_pairs_shortest_path_length(G))\n",
    "    with open(path_length_dir, 'wb') as f:\n",
    "        pickle.dump(path_length, f)\n",
    "\n"
   ]
  },
  {
   "cell_type": "code",
   "execution_count": 10,
   "metadata": {},
   "outputs": [],
   "source": [
    "distance = np.zeros((node_num, node_num))\n",
    "for i in range(node_num):\n",
    "    for j in range(node_num):\n",
    "        distance[i][j] = path_length[i][j]"
   ]
  },
  {
   "cell_type": "code",
   "execution_count": 11,
   "metadata": {},
   "outputs": [
    {
     "name": "stdout",
     "output_type": "stream",
     "text": [
      "[[0.000000e+00 5.201000e+03]\n",
      " [1.000000e+00 3.967060e+05]\n",
      " [2.000000e+00 8.403772e+06]\n",
      " [3.000000e+00 9.603496e+06]\n",
      " [4.000000e+00 6.092402e+06]\n",
      " [5.000000e+00 2.148628e+06]\n",
      " [6.000000e+00 3.501540e+05]\n",
      " [7.000000e+00 4.443000e+04]\n",
      " [8.000000e+00 5.188000e+03]\n",
      " [9.000000e+00 4.120000e+02]\n",
      " [1.000000e+01 1.200000e+01]]\n"
     ]
    }
   ],
   "source": [
    "unique, counts = np.unique(distance, return_counts=True)\n",
    "print(np.asarray((unique, counts)).T)"
   ]
  },
  {
   "cell_type": "code",
   "execution_count": 12,
   "metadata": {},
   "outputs": [
    {
     "data": {
      "text/plain": [
       "array([ 0.,  1.,  2.,  3.,  4.,  5.,  6.,  7.,  8.,  9., 10.])"
      ]
     },
     "execution_count": 12,
     "metadata": {},
     "output_type": "execute_result"
    }
   ],
   "source": [
    "unique"
   ]
  },
  {
   "cell_type": "code",
   "execution_count": 13,
   "metadata": {},
   "outputs": [
    {
     "data": {
      "text/plain": [
       "array([   5201,  396706, 8403772, 9603496, 6092402, 2148628,  350154,\n",
       "         44430,    5188,     412,      12])"
      ]
     },
     "execution_count": 13,
     "metadata": {},
     "output_type": "execute_result"
    }
   ],
   "source": [
    "counts"
   ]
  },
  {
   "cell_type": "code",
   "execution_count": 14,
   "metadata": {},
   "outputs": [
    {
     "name": "stdout",
     "output_type": "stream",
     "text": [
      "201\n"
     ]
    }
   ],
   "source": [
    "epoch_list = []\n",
    "for file in os.listdir(z_dir):\n",
    "    if file != 'label.pt' and file != 'adj.pt':\n",
    "        # print(file)\n",
    "        name = file.split('.')[0]\n",
    "        name = name.split('_')[1]        \n",
    "        epoch_list.append(int(name))\n",
    "\n",
    "epoch = max(epoch_list)\n",
    "print(epoch)"
   ]
  },
  {
   "cell_type": "code",
   "execution_count": 15,
   "metadata": {},
   "outputs": [],
   "source": [
    "z = torch.load(z_dir+'z_' + str(epoch) + '.pt')"
   ]
  },
  {
   "cell_type": "code",
   "execution_count": 16,
   "metadata": {},
   "outputs": [
    {
     "data": {
      "text/plain": [
       "torch.Size([5201, 5201])"
      ]
     },
     "execution_count": 16,
     "metadata": {},
     "output_type": "execute_result"
    }
   ],
   "source": [
    "z.shape"
   ]
  },
  {
   "cell_type": "code",
   "execution_count": 17,
   "metadata": {},
   "outputs": [],
   "source": [
    "z = z.detach().numpy()"
   ]
  },
  {
   "cell_type": "code",
   "execution_count": 18,
   "metadata": {},
   "outputs": [],
   "source": [
    "labels = torch.load(z_dir + 'label.pt')"
   ]
  },
  {
   "cell_type": "code",
   "execution_count": 19,
   "metadata": {},
   "outputs": [
    {
     "data": {
      "text/plain": [
       "torch.Size([5201])"
      ]
     },
     "execution_count": 19,
     "metadata": {},
     "output_type": "execute_result"
    }
   ],
   "source": [
    "labels.shape"
   ]
  },
  {
   "cell_type": "code",
   "execution_count": 20,
   "metadata": {},
   "outputs": [],
   "source": [
    "labels = labels.detach().numpy()"
   ]
  },
  {
   "cell_type": "code",
   "execution_count": 21,
   "metadata": {},
   "outputs": [
    {
     "name": "stdout",
     "output_type": "stream",
     "text": [
      "z_pos_sum [5201, 88122, 1338321, 1017227, 530094, 182748, 27986, 3018, 200, 2]\n",
      "friends_sum [5201, 88122, 1653826, 1974570, 1174346, 431142, 72540, 9278, 1020, 40]\n"
     ]
    }
   ],
   "source": [
    "z_pos_sum = [0] * unique.shape[0]\n",
    "friends_sum = [0] * unique.shape[0]\n",
    "\n",
    "\n",
    "for i in range(node_num):\n",
    "    for j in range(node_num):\n",
    "        if labels[i] == labels[j]:\n",
    "            friends_sum[int(distance[i][j])] += 1\n",
    "            if z[i][j] > 0:\n",
    "                z_pos_sum[int(distance[i][j])] += 1\n",
    "\n",
    "if friends_sum[-1] == 0:\n",
    "    z_pos_sum = z_pos_sum[:-1]\n",
    "    friends_sum = friends_sum[:-1]\n",
    "\n",
    "\n",
    "print('z_pos_sum', z_pos_sum)\n",
    "print('friends_sum', friends_sum)"
   ]
  },
  {
   "cell_type": "code",
   "execution_count": 22,
   "metadata": {},
   "outputs": [
    {
     "name": "stdout",
     "output_type": "stream",
     "text": [
      "z_pos_sum_log [12.34 16.43 20.35 19.96 19.02 17.48 14.77 11.56  7.64  1.  ]\n",
      "friends_sum_log [12.34 16.43 20.66 20.91 20.16 18.72 16.15 13.18  9.99  5.32]\n"
     ]
    }
   ],
   "source": [
    "z_pos_sum_log = [np.log2(p) for p in z_pos_sum]\n",
    "friends_sum_log = [np.log2(f) for f in friends_sum]\n",
    "\n",
    "z_pos_sum_log = np.around(z_pos_sum_log, 2)\n",
    "friends_sum_log = np.around(friends_sum_log, 2)\n",
    "\n",
    "print('z_pos_sum_log', z_pos_sum_log)\n",
    "print('friends_sum_log', friends_sum_log)"
   ]
  },
  {
   "cell_type": "code",
   "execution_count": 23,
   "metadata": {},
   "outputs": [
    {
     "data": {
      "text/plain": [
       "array([   5201,  396706, 8403772, 9603496, 6092402, 2148628,  350154,\n",
       "         44430,    5188,     412,      12])"
      ]
     },
     "execution_count": 23,
     "metadata": {},
     "output_type": "execute_result"
    }
   ],
   "source": [
    "counts"
   ]
  },
  {
   "cell_type": "code",
   "execution_count": 24,
   "metadata": {},
   "outputs": [
    {
     "data": {
      "text/plain": [
       "[1.0,\n",
       " 0.22213427576089093,\n",
       " 0.15925241665290302,\n",
       " 0.10592257236323106,\n",
       " 0.08700903190564246,\n",
       " 0.08505334566988795,\n",
       " 0.07992483307344768,\n",
       " 0.06792707629979744,\n",
       " 0.03855050115651504,\n",
       " 0.0048543689320388345]"
      ]
     },
     "execution_count": 24,
     "metadata": {},
     "output_type": "execute_result"
    }
   ],
   "source": [
    "ratio = [z_pos_sum[i]/counts[i] for i in range(len(z_pos_sum))]\n",
    "ratio"
   ]
  },
  {
   "cell_type": "code",
   "execution_count": 25,
   "metadata": {},
   "outputs": [
    {
     "data": {
      "text/plain": [
       "10"
      ]
     },
     "execution_count": 25,
     "metadata": {},
     "output_type": "execute_result"
    }
   ],
   "source": [
    "len(z_pos_sum)"
   ]
  },
  {
   "cell_type": "code",
   "execution_count": 30,
   "metadata": {},
   "outputs": [],
   "source": [
    "matplotlib.rcParams.update({'font.size': 15})"
   ]
  },
  {
   "cell_type": "code",
   "execution_count": 32,
   "metadata": {},
   "outputs": [
    {
     "data": {
      "image/png": "[encoded data removed]",
      "text/plain": [
       "<Figure size 432x288 with 1 Axes>"
      ]
     },
     "metadata": {
      "needs_background": "light"
     },
     "output_type": "display_data"
    }
   ],
   "source": [
    "plt.figure()\n",
    "width = 0.35\n",
    "plt.xlim(0, len(z_pos_sum))\n",
    "plt.ylabel('Number (log2)')\n",
    "plt.xlabel('Hops')\n",
    "ax = plt.gca()\n",
    "y_major_locator = MultipleLocator(4)\n",
    "ax.yaxis.set_major_locator(y_major_locator)\n",
    "hops = np.arange(1, len(z_pos_sum), 1)\n",
    "# new_ratio = [r * 100 for r in ratio[1:]]\n",
    "# plt.plot(hops, new_ratio, marker='*')\n",
    "hatchs = [\"//\", \"\\\\\"]\n",
    "plt.bar(hops - width/2, z_pos_sum_log[1:], label='z_pos_num', width=width, hatch='//', edgecolor='black', color='coral')\n",
    "plt.bar(hops + width/2, friends_sum_log[1:], label='friends_num', width=width, hatch=\"\", edgecolor='black', color='royalblue')\n",
    "plt.legend(loc='upper right')\n",
    "plt.savefig('case_study/case_study_{}.pdf'.format(dataset), bbox_inches='tight')\n",
    "plt.show()"
   ]
  },
  {
   "cell_type": "code",
   "execution_count": null,
   "metadata": {},
   "outputs": [],
   "source": []
  }
 ],
 "metadata": {
  "interpreter": {
   "hash": "31f2aee4e71d21fbe5cf8b01ff0e069b9275f58929596ceb00d14d90e3e16cd6"
  },
  "kernelspec": {
   "display_name": "Python 3.6.9 64-bit",
   "language": "python",
   "name": "python3"
  },
  "language_info": {
   "codemirror_mode": {
    "name": "ipython",
    "version": 3
   },
   "file_extension": ".py",
   "mimetype": "text/x-python",
   "name": "python",
   "nbconvert_exporter": "python",
   "pygments_lexer": "ipython3",
   "version": "3.6.9"
  },
  "orig_nbformat": 4
 },
 "nbformat": 4,
 "nbformat_minor": 2
}
